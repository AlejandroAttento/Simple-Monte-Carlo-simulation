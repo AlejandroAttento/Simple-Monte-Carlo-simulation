{
 "cells": [
  {
   "cell_type": "markdown",
   "metadata": {},
   "source": [
    "# Estimating pi using the Monte-Carlo simulation"
   ]
  },
  {
   "cell_type": "markdown",
   "metadata": {},
   "source": [
    "### ¿What is the Monte Carlo simulation methode?"
   ]
  },
  {
   "cell_type": "markdown",
   "metadata": {},
   "source": [
    "Monte Carlo simulation is a computerized mathematical technique that allows us to estimate for a geometric figure the area or the volume in case that the analytical calculation is too complex, or if the time a computer needs to perform this calculation is too long. We will see that using this methode we can estimate probabilities."
   ]
  },
  {
   "cell_type": "markdown",
   "metadata": {},
   "source": [
    "### ¿How does the Monte Carlo simulation work?"
   ]
  },
  {
   "cell_type": "markdown",
   "metadata": {},
   "source": [
    "Given any 2D or 3D geometric figure with some complex shape we will estimate the area or volume. To get this value we will enclose this first figure into a second figure (This figure has to been simple and we have to know the value of the area or volume). After that, we will choose a lot of points from this second figure randomly, the amount depends on each case and the accuracy we want to get back. If we analyze each one of this points and classify then into \"points which belongs to both figures\" or \"points which belongs only to the second figure\" we can get the percentage of points which belongs to both figures and the percentage of points which belongs only to the second figure, if we multiply this value to the area (or volume) of the second figure (we already know) we will get an estimation of the area (or volume) for each figure."
   ]
  },
  {
   "cell_type": "markdown",
   "metadata": {},
   "source": [
    "### ¿How will we apply this to estimate the value of pi?"
   ]
  },
  {
   "cell_type": "markdown",
   "metadata": {},
   "source": [
    "Suppose we have two geometric figures in 2D a circle and a square, the square enclose the circle. If we choose any point this one could belongs only to the second figure or to both, if we choose 1000 points the same happens, and if we think a littel about that we are speacking about a probability, the probability that any randomly choosen point belongs only to the second figure or to both. And this probability has a relation to the area of each figure. Also, we know that the mathematical formula to calculate the area of a circle use the pi value, if we could get the relation between the probability and the pi value we could estimate pi."
   ]
  },
  {
   "cell_type": "markdown",
   "metadata": {},
   "source": [
    "### ¿Which relation can we get between the mentioned probability and pi?"
   ]
  },
  {
   "cell_type": "markdown",
   "metadata": {},
   "source": [
    "$$P(C)=\\frac{Circle\\space area}{Square\\space area}=\\frac{\\pi\\cdot r^2}{(2\\cdot r)\\cdot(2\\cdot r)}=\\frac{\\pi\\cdot r^2}{4\\cdot r^2}=\\frac{\\pi}{4}$$"
   ]
  },
  {
   "cell_type": "markdown",
   "metadata": {},
   "source": [
    "$$\\pi=4\\cdot P(C)$$\n",
    "\n",
    "P(C): The probability that any randomly choosen point from the square belongs to both figure."
   ]
  },
  {
   "cell_type": "markdown",
   "metadata": {},
   "source": [
    "<img src=\"./Image1.png\">"
   ]
  },
  {
   "cell_type": "markdown",
   "metadata": {},
   "source": [
    "So, now we know the relation between the probability P(C) and pi, yet we have to estimate the value of this probability, to get this value we will use the Monte Carlo simulation methode. Also, this relation shows us that it dosen´t matter which size we choose for our figures in this case, we only have to keep the relation between them as we show in the picture above."
   ]
  },
  {
   "cell_type": "markdown",
   "metadata": {},
   "source": [
    "### ¿What is the difference between an vectorized and an non-vectorized script?"
   ]
  },
  {
   "cell_type": "markdown",
   "metadata": {},
   "source": [
    "We really don´t need to know this to use the Monte Carlo simulation methode, this is only an extra which shows how usually many algorithms are applied in real life to get an better performance."
   ]
  },
  {
   "cell_type": "markdown",
   "metadata": {},
   "source": [
    "The difference between an non-vectorized script and a vectorized script is that in the second case we try to avoid for-loops, they have a low performance, and if we have flor-loops in for-loops they work even slower. In many cases (Not in every case) we can avoid the use of this loops using vectors and matrices that´s what we will do here. To use an vectorized script we need to have some basic algebra knowledge."
   ]
  },
  {
   "cell_type": "code",
   "execution_count": 11,
   "metadata": {},
   "outputs": [],
   "source": [
    "import numpy as np\n",
    "import time\n",
    "import math"
   ]
  },
  {
   "cell_type": "markdown",
   "metadata": {},
   "source": [
    "### Non-Vectorized version "
   ]
  },
  {
   "cell_type": "code",
   "execution_count": 12,
   "metadata": {},
   "outputs": [
    {
     "name": "stdout",
     "output_type": "stream",
     "text": [
      "The approximate value of pi is 3.141770 the relative error is 0.005641%\n",
      "This process took 115.926587 seconds\n"
     ]
    }
   ],
   "source": [
    "loop=3000    #Times we loop the test\n",
    "p=30000      #Size of vectors/Amount of points\n",
    "prob_avg = 0\n",
    "tic=time.time()\n",
    "for i in range(loop):\n",
    "    value = float(0)\n",
    "    x = np.random.uniform(-1,1,p).tolist()\n",
    "    y = np.random.uniform(-1,1,p).tolist()\n",
    "    for j in range(len(x)):\n",
    "        z = np.sqrt(x[j]**2+y[j]**2)\n",
    "        if z<=1:\n",
    "            value += 1\n",
    "    prob_value = value/p\n",
    "    prob_avg += prob_value\n",
    "prob= prob_avg/loop\n",
    "pi=prob*4\n",
    "dif=round(np.abs((math.pi-pi)/math.pi)*100,6)\n",
    "toc=time.time()\n",
    "non_vec_t=toc-tic\n",
    "print('The approximate value of pi is %f the relative error is %f'%(pi,dif)+str('%'))\n",
    "print('This process took %f seconds'%(non_vec_t))"
   ]
  },
  {
   "cell_type": "markdown",
   "metadata": {},
   "source": [
    "### Vectorized version "
   ]
  },
  {
   "cell_type": "code",
   "execution_count": 13,
   "metadata": {},
   "outputs": [
    {
     "name": "stdout",
     "output_type": "stream",
     "text": [
      "The approximate value of pi is 3.141580 the relative error is 0.000416%\n",
      "This process took 1.924048 seconds\n"
     ]
    }
   ],
   "source": [
    "prob_avg_list=[]\n",
    "loop=3000           #Times we loop the test\n",
    "p=30000             #Size of vectors\n",
    "tic=time.time()\n",
    "for i in range(loop):\n",
    "    x_list=[]\n",
    "    y_list=[]\n",
    "    x_list.append(np.random.uniform(-1,1,p))\n",
    "    y_list.append(np.random.uniform(-1,1,p))\n",
    "    x_vec=np.array(x_list)\n",
    "    y_vec=np.array(y_list)\n",
    "    eval_vec=np.sqrt((x_vec**2)+(y_vec**2)).squeeze()\n",
    "    eval_vec=(((eval_vec-1)/np.abs(eval_vec-1))+1)/2\n",
    "    prob_avg_list.append(1-(np.sum(eval_vec,axis=0)/len(eval_vec)))\n",
    "prob=np.mean(prob_avg_list,axis=0)\n",
    "pi=4*prob\n",
    "dif=round(np.abs((math.pi-pi)/math.pi)*100,6)\n",
    "toc=time.time()\n",
    "vec_t=toc-tic\n",
    "print('The approximate value of pi is %f the relative error is %f'%(pi,dif)+str('%'))\n",
    "print('This process took %f seconds'%(vec_t))"
   ]
  },
  {
   "cell_type": "markdown",
   "metadata": {},
   "source": [
    "### Comparison"
   ]
  },
  {
   "cell_type": "code",
   "execution_count": 14,
   "metadata": {},
   "outputs": [
    {
     "name": "stdout",
     "output_type": "stream",
     "text": [
      "The vectorized version of the Monte Carlo simulation works 60-times faster\n"
     ]
    }
   ],
   "source": [
    "rel=non_vec_t/vec_t\n",
    "print('The vectorized version of the Monte Carlo simulation works %d-times faster'%(rel))"
   ]
  }
 ],
 "metadata": {
  "kernelspec": {
   "display_name": "Python 3",
   "language": "python",
   "name": "python3"
  },
  "language_info": {
   "codemirror_mode": {
    "name": "ipython",
    "version": 3
   },
   "file_extension": ".py",
   "mimetype": "text/x-python",
   "name": "python",
   "nbconvert_exporter": "python",
   "pygments_lexer": "ipython3",
   "version": "3.7.4"
  }
 },
 "nbformat": 4,
 "nbformat_minor": 2
}
